{
 "cells": [
  {
   "cell_type": "code",
   "execution_count": 1,
   "metadata": {
    "collapsed": true
   },
   "outputs": [],
   "source": [
    "# https://www.kite.com/python/answers/how-to-read-a-file-byte-by-byte-and-print-a-list-of-bytes-in-binary-in-python\n",
    "# https://twitter.com/moisoto/status/1392211129384976389"
   ]
  },
  {
   "cell_type": "code",
   "execution_count": 2,
   "metadata": {
    "collapsed": true
   },
   "outputs": [],
   "source": [
    "from PIL import Image"
   ]
  },
  {
   "cell_type": "code",
   "execution_count": 3,
   "metadata": {
    "collapsed": true
   },
   "outputs": [],
   "source": [
    "filename = \"/Users/patrickbell/Desktop/savedCapture.jpg\""
   ]
  },
  {
   "cell_type": "code",
   "execution_count": 4,
   "metadata": {
    "collapsed": true
   },
   "outputs": [],
   "source": [
    "file = open(filename, 'rb')"
   ]
  },
  {
   "cell_type": "code",
   "execution_count": 5,
   "metadata": {
    "collapsed": true
   },
   "outputs": [],
   "source": [
    "byteList = []\n",
    "byte = file.read(1)\n",
    "while byte:\n",
    "    byteList.append(byte)\n",
    "    byte = file.read(1)"
   ]
  },
  {
   "cell_type": "code",
   "execution_count": 6,
   "metadata": {
    "collapsed": false
   },
   "outputs": [
    {
     "name": "stdout",
     "output_type": "stream",
     "text": [
      "196419\n"
     ]
    }
   ],
   "source": [
    "print(len(byteList))"
   ]
  },
  {
   "cell_type": "code",
   "execution_count": null,
   "metadata": {
    "collapsed": true
   },
   "outputs": [],
   "source": []
  },
  {
   "cell_type": "code",
   "execution_count": 7,
   "metadata": {
    "collapsed": true
   },
   "outputs": [],
   "source": [
    "width = 1920\n",
    "height = 1080\n",
    "img = Image.new('RGB', (width, height))\n",
    "pixels = img.load()"
   ]
  },
  {
   "cell_type": "code",
   "execution_count": 8,
   "metadata": {
    "collapsed": true
   },
   "outputs": [],
   "source": [
    "widthCounter = 0\n",
    "heightCounter = 0\n",
    "for i in range(0, len(byteList), 3):\n",
    "    newPixelValue = (ord(byteList[i]),ord(byteList[i+1]),ord(byteList[i+2]))\n",
    "    pixels[widthCounter, heightCounter] = newPixelValue\n",
    "    widthCounter += 1\n",
    "    if widthCounter == width:\n",
    "        widthCounter = 0\n",
    "        heightCounter += 1\n",
    "    if heightCounter == height:\n",
    "#         print(f\"Ran out when i == {i} out of {len(byteList)}\")\n",
    "        continue\n",
    "\n",
    "if len(byteList)%3 == 1:\n",
    "    newPixelValue = (ord(byteList[-1]),0,0)\n",
    "    pixels[widthCounter, heightCounter] = newPixelValue\n",
    "    \n",
    "if len(byteList)%3 == 2:\n",
    "    newPixelValue = (ord(byteList[-2]),ord(byteList[-1]),0)\n",
    "    pixels[widthCounter, heightCounter] = newPixelValue"
   ]
  },
  {
   "cell_type": "code",
   "execution_count": 9,
   "metadata": {
    "collapsed": true
   },
   "outputs": [],
   "source": [
    "# TODO: Store the buffer length at begining of the img so we know how far to read\n",
    "# SHOULD ALSO STORE FILENAME, need to account for how long that is too...\n",
    "\n",
    "# Should eventually have it stream in data so it can read large files at once and also save imgs/videos streaming so it wont all be stored in memory\n",
    "# If you know complete length, you save multiple files per img, but would need to account for if it overlapped into another image, or could just adjust the img size\n"
   ]
  },
  {
   "cell_type": "code",
   "execution_count": null,
   "metadata": {
    "collapsed": true
   },
   "outputs": [],
   "source": []
  },
  {
   "cell_type": "code",
   "execution_count": null,
   "metadata": {
    "collapsed": true
   },
   "outputs": [],
   "source": []
  },
  {
   "cell_type": "code",
   "execution_count": 10,
   "metadata": {
    "collapsed": true
   },
   "outputs": [],
   "source": [
    "imgOutPath = \"/Users/patrickbell/Desktop/test.png\"\n",
    "img.save(\"/Users/patrickbell/Desktop/test.png\")"
   ]
  },
  {
   "cell_type": "code",
   "execution_count": 11,
   "metadata": {
    "collapsed": true
   },
   "outputs": [],
   "source": [
    "# TODO: Come up with a function that just returns the next pixel instead of always doing a loop of width/height"
   ]
  },
  {
   "cell_type": "code",
   "execution_count": null,
   "metadata": {
    "collapsed": true
   },
   "outputs": [],
   "source": []
  },
  {
   "cell_type": "code",
   "execution_count": 12,
   "metadata": {
    "collapsed": true
   },
   "outputs": [],
   "source": [
    "openedImg = Image.open(imgOutPath)\n",
    "openedImgPixels = openedImg.load()"
   ]
  },
  {
   "cell_type": "code",
   "execution_count": 13,
   "metadata": {
    "collapsed": false
   },
   "outputs": [
    {
     "data": {
      "text/plain": [
       "True"
      ]
     },
     "execution_count": 13,
     "metadata": {},
     "output_type": "execute_result"
    }
   ],
   "source": [
    "openedImgPixels[1,0] == pixels[1,0]"
   ]
  },
  {
   "cell_type": "code",
   "execution_count": 14,
   "metadata": {
    "collapsed": true
   },
   "outputs": [],
   "source": [
    "newBytesList = []\n",
    "widthCounter = 0\n",
    "heightCounter = 0\n",
    "for i in range(int(len(byteList)/3)):\n",
    "    pixel = openedImgPixels[widthCounter,heightCounter]\n",
    "    newBytesList.append(pixel[0].to_bytes(1,'big'))\n",
    "    newBytesList.append(pixel[1].to_bytes(1,'big'))\n",
    "    newBytesList.append(pixel[2].to_bytes(1,'big'))\n",
    "    \n",
    "    \n",
    "    widthCounter += 1\n",
    "    if widthCounter == width:\n",
    "        widthCounter = 0\n",
    "        heightCounter += 1"
   ]
  },
  {
   "cell_type": "code",
   "execution_count": 15,
   "metadata": {
    "collapsed": false
   },
   "outputs": [
    {
     "data": {
      "text/plain": [
       "196419"
      ]
     },
     "execution_count": 15,
     "metadata": {},
     "output_type": "execute_result"
    }
   ],
   "source": [
    "len(newBytesList)"
   ]
  },
  {
   "cell_type": "code",
   "execution_count": 16,
   "metadata": {
    "collapsed": false
   },
   "outputs": [
    {
     "data": {
      "text/plain": [
       "196419"
      ]
     },
     "execution_count": 16,
     "metadata": {},
     "output_type": "execute_result"
    }
   ],
   "source": [
    "len(byteList)"
   ]
  },
  {
   "cell_type": "code",
   "execution_count": 17,
   "metadata": {
    "collapsed": true
   },
   "outputs": [],
   "source": [
    "convertedBackFilePath = \"/Users/patrickbell/Desktop/testbackOut.jpg\"\n",
    "with open(convertedBackFilePath, 'wb') as f:\n",
    "    for item in newBytesList:\n",
    "        f.write(item)"
   ]
  },
  {
   "cell_type": "code",
   "execution_count": null,
   "metadata": {
    "collapsed": true
   },
   "outputs": [],
   "source": []
  }
 ],
 "metadata": {
  "kernelspec": {
   "display_name": "Python 3",
   "language": "python",
   "name": "python3"
  },
  "language_info": {
   "codemirror_mode": {
    "name": "ipython",
    "version": 3
   },
   "file_extension": ".py",
   "mimetype": "text/x-python",
   "name": "python",
   "nbconvert_exporter": "python",
   "pygments_lexer": "ipython3",
   "version": "3.6.0"
  }
 },
 "nbformat": 4,
 "nbformat_minor": 2
}
